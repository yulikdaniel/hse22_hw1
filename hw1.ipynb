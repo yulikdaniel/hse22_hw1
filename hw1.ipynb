{
 "cells": [
  {
   "cell_type": "code",
   "execution_count": 1,
   "metadata": {},
   "outputs": [],
   "source": [
    "from functools import reduce\n",
    "\n",
    "\n",
    "def remove_extra_and_merge(data: list[str]) -> list[str]:\n",
    "    res = []\n",
    "    for x in data:\n",
    "        if x.startswith('>'):\n",
    "            res.append(\"\")\n",
    "        else:\n",
    "            res[-1] += x\n",
    "    return res\n",
    "\n",
    "\n",
    "def parse_file(file) -> list[str]:\n",
    "    with open(file, \"r\") as f:\n",
    "        return remove_extra_and_merge([x.strip() for x in f.readlines()])\n",
    "\n",
    "\n",
    "def gather_statistics(file, scaffold = False) -> str:\n",
    "    data = parse_file(file)\n",
    "    lens = [len(x) for x in data]\n",
    "    lens.sort()\n",
    "    return \"Overall number: {}, overall length: {}, max length: {}, median length (N50): {}\".format(len(data), sum(lens), max(lens), lens[len(data) // 2]) \\\n",
    "    + (\", \" + gather_max_scaffold_statistics(data)) * int(scaffold)\n",
    "\n",
    "\n",
    "def gather_max_scaffold_statistics(data) -> str:\n",
    "    scaf = max(data, key=len)\n",
    "    num = 0\n",
    "    last = False\n",
    "    for x in scaf:\n",
    "        if x == 'N' and not last:\n",
    "            num += 1\n",
    "        last = (x == 'N')\n",
    "    return \"scaffold with maximum length has {} gaps with the overall length of {}\".format(num, scaf.count('N'))"
   ]
  },
  {
   "cell_type": "code",
   "execution_count": 2,
   "metadata": {},
   "outputs": [
    {
     "name": "stdout",
     "output_type": "stream",
     "text": [
      "Contigs: Overall number: 608, overall length: 3924195, max length: 179307, median length (N50): 179\n",
      "Scaffolds:  Overall number: 67, overall length: 3875155, max length: 3834161, median length (N50): 265, scaffold with maximum length has 65 gaps with the overall length of 6969\n",
      "Scaffolds with closed gaps:  Overall number: 67, overall length: 3922247, max length: 3880795, median length (N50): 265, scaffold with maximum length has 8 gaps with the overall length of 2388\n"
     ]
    }
   ],
   "source": [
    "print(\"Contigs:\", gather_statistics(\"data/files_contig.fa\"))\n",
    "print(\"Scaffolds:\", gather_statistics(\"data/files_scaffold.fa\", scaffold=True))\n",
    "print(\"Scaffolds with closed gaps: \", gather_statistics(\"data/files_gapClosed.fa\", scaffold=True))"
   ]
  },
  {
   "cell_type": "markdown",
   "metadata": {},
   "source": [
    "**БОНУС**"
   ]
  },
  {
   "cell_type": "code",
   "execution_count": 3,
   "metadata": {},
   "outputs": [
    {
     "name": "stdout",
     "output_type": "stream",
     "text": [
      "Contigs: Overall number: 3444, overall length: 3916991, max length: 25762, median length (N50): 165\n",
      "Scaffolds:  Overall number: 503, overall length: 3863824, max length: 1277555, median length (N50): 135, scaffold with maximum length has 506 gaps with the overall length of 29410\n",
      "Scaffolds with closed gaps:  Overall number: 503, overall length: 3853327, max length: 1275044, median length (N50): 135, scaffold with maximum length has 37 gaps with the overall length of 13917\n"
     ]
    }
   ],
   "source": [
    "print(\"Contigs:\", gather_statistics(\"data/small_contig.fa\"))\n",
    "print(\"Scaffolds:\", gather_statistics(\"data/small_scaffold.fa\", scaffold=True))\n",
    "print(\"Scaffolds with closed gaps: \", gather_statistics(\"data/small_gapClosed.fa\", scaffold=True))"
   ]
  },
  {
   "cell_type": "markdown",
   "metadata": {},
   "source": [
    "Видим: при сокращении размера семпла в 10 раз контигов и скаффолдов стало больше, но их длины уменьшились; количество и суммарная длина гэпов в максимальном скаффолде увеличились."
   ]
  },
  {
   "cell_type": "markdown",
   "metadata": {},
   "source": []
  }
 ],
 "metadata": {
  "kernelspec": {
   "display_name": "Python 3.10.7 64-bit",
   "language": "python",
   "name": "python3"
  },
  "language_info": {
   "codemirror_mode": {
    "name": "ipython",
    "version": 3
   },
   "file_extension": ".py",
   "mimetype": "text/x-python",
   "name": "python",
   "nbconvert_exporter": "python",
   "pygments_lexer": "ipython3",
   "version": "3.10.7"
  },
  "orig_nbformat": 4,
  "vscode": {
   "interpreter": {
    "hash": "8a94588eda9d64d9e9a351ab8144e55b1fabf5113b54e67dd26a8c27df0381b3"
   }
  }
 },
 "nbformat": 4,
 "nbformat_minor": 2
}
